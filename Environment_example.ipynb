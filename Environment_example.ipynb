{
  "nbformat": 4,
  "nbformat_minor": 0,
  "metadata": {
    "colab": {
      "provenance": [],
      "collapsed_sections": [],
      "include_colab_link": true
    },
    "kernelspec": {
      "name": "python3",
      "display_name": "Python 3"
    },
    "language_info": {
      "name": "python"
    }
  },
  "cells": [
    {
      "cell_type": "markdown",
      "metadata": {
        "id": "view-in-github",
        "colab_type": "text"
      },
      "source": [
        "<a href=\"https://colab.research.google.com/github/Aluminiy/hw01/blob/main/Environment_example.ipynb\" target=\"_parent\"><img src=\"https://colab.research.google.com/assets/colab-badge.svg\" alt=\"Open In Colab\"/></a>"
      ]
    },
    {
      "cell_type": "code",
      "execution_count": null,
      "metadata": {
        "id": "MXXTuy_o0sjk"
      },
      "outputs": [],
      "source": [
        "!pip install -q -U kaggle_environments"
      ]
    },
    {
      "cell_type": "code",
      "source": [
        "import numpy as np\n",
        "import pandas as pd\n",
        "import random\n",
        "\n",
        "import matplotlib.pyplot as plt\n",
        "import seaborn as sns\n",
        "\n",
        "from kaggle_environments import make, evaluate"
      ],
      "metadata": {
        "id": "yz23vWHD0wcj"
      },
      "execution_count": null,
      "outputs": []
    },
    {
      "cell_type": "markdown",
      "source": [
        "Опишем поведение агента, всегда играющего \"камень\" - это значение 0"
      ],
      "metadata": {
        "id": "0kuo6IOxiRub"
      }
    },
    {
      "cell_type": "code",
      "source": [
        "%%writefile rock_agent.py\n",
        "\n",
        "#Example of the simple agent\n",
        "#0 - rock\n",
        "#1 - paper\n",
        "#2 - scissors\n",
        "def rock_agent(observation, configuration):\n",
        "    return 0"
      ],
      "metadata": {
        "id": "bqTqV7B92rJ6",
        "outputId": "d7e9c065-0ab9-42e5-a22f-637f070bface",
        "colab": {
          "base_uri": "https://localhost:8080/"
        }
      },
      "execution_count": 11,
      "outputs": [
        {
          "output_type": "stream",
          "name": "stdout",
          "text": [
            "Overwriting rock_agent.py\n"
          ]
        }
      ]
    },
    {
      "cell_type": "code",
      "source": [
        "%%writefile paper_agent.py\n",
        "def paper_agent(observation, configuration):\n",
        "    return 1"
      ],
      "metadata": {
        "id": "NIfUpTWzfqGq",
        "outputId": "5a38b8ce-2769-4fc6-8835-9e244740518a",
        "colab": {
          "base_uri": "https://localhost:8080/"
        }
      },
      "execution_count": 9,
      "outputs": [
        {
          "output_type": "stream",
          "name": "stdout",
          "text": [
            "Writing paper_agent.py\n"
          ]
        }
      ]
    },
    {
      "cell_type": "code",
      "source": [
        "%%writefile scissors_agent.py\n",
        "def scissors_agent(observation, configuration):\n",
        "    return 2"
      ],
      "metadata": {
        "id": "sCC_e2dQfyhj",
        "outputId": "1835e737-7405-45dd-93e4-e5d8bad67eec",
        "colab": {
          "base_uri": "https://localhost:8080/"
        }
      },
      "execution_count": 10,
      "outputs": [
        {
          "output_type": "stream",
          "name": "stdout",
          "text": [
            "Writing scissors_agent.py\n"
          ]
        }
      ]
    },
    {
      "cell_type": "code",
      "source": [
        "%%writefile random_agent.py\n",
        "def random_agent(observation, configuration):\n",
        "    return random.randint(0, 2)"
      ],
      "metadata": {
        "id": "b21pL69ShD8O",
        "outputId": "2bdda5a0-db2d-4032-85e3-eb0a05fd030a",
        "colab": {
          "base_uri": "https://localhost:8080/"
        }
      },
      "execution_count": 19,
      "outputs": [
        {
          "output_type": "stream",
          "name": "stdout",
          "text": [
            "Writing random_agent.py\n"
          ]
        }
      ]
    },
    {
      "cell_type": "markdown",
      "source": [
        "Попробуем теперь использовать информацию о прошлых действиях противника. Опишем агента, который производит то же самое действие, что и оппонент на прошлом ходу"
      ],
      "metadata": {
        "id": "et1J5hUGigeh"
      }
    },
    {
      "cell_type": "code",
      "source": [
        "%%writefile copy_opponent.py\n",
        "\n",
        "#Example \n",
        "def copy_opponent(observation, configuration):\n",
        "    #in case we have information about opponent last move\n",
        "    if observation.step > 0:\n",
        "        return observation.lastOpponentAction\n",
        "    #initial step\n",
        "    else:\n",
        "        return random.randrange(0, configuration.signs)"
      ],
      "metadata": {
        "id": "7l6Ttw6qi0jk",
        "outputId": "4e3fea0c-5bcf-4449-dcf7-9d67f6e3df65",
        "colab": {
          "base_uri": "https://localhost:8080/"
        }
      },
      "execution_count": 12,
      "outputs": [
        {
          "output_type": "stream",
          "name": "stdout",
          "text": [
            "Overwriting copy_opponent.py\n"
          ]
        }
      ]
    },
    {
      "cell_type": "code",
      "source": [
        "%%writefile reactionary.py\n",
        "\n",
        "def reactionary(observation, configuration):\n",
        "    global last_react_action\n",
        "    if observation.step == 0:\n",
        "        last_react_action = random.randrange(0, configuration.signs)\n",
        "    elif get_score(last_react_action, observation.lastOpponentAction) <= 1:\n",
        "        last_react_action = (observation.lastOpponentAction + 1) % configuration.signs\n",
        "\n",
        "    return last_react_action"
      ],
      "metadata": {
        "id": "pIMkxAwalQuG",
        "outputId": "fb32c183-55ff-4424-d445-124d93a4da45",
        "colab": {
          "base_uri": "https://localhost:8080/"
        }
      },
      "execution_count": 22,
      "outputs": [
        {
          "output_type": "stream",
          "name": "stdout",
          "text": [
            "Writing reactionary.py\n"
          ]
        }
      ]
    },
    {
      "cell_type": "code",
      "source": [
        "%%writefile statistical.py\n",
        "\n",
        "action_histogram = {}\n",
        "\n",
        "\n",
        "def statistical(observation, configuration):\n",
        "    global action_histogram\n",
        "    if observation.step == 0:\n",
        "        action_histogram = {}\n",
        "        return\n",
        "    action = observation.lastOpponentAction\n",
        "    if action not in action_histogram:\n",
        "        action_histogram[action] = 0\n",
        "    action_histogram[action] += 1\n",
        "    mode_action = None\n",
        "    mode_action_count = None\n",
        "    for k, v in action_histogram.items():\n",
        "        if mode_action_count is None or v > mode_action_count:\n",
        "            mode_action = k\n",
        "            mode_action_count = v\n",
        "            continue\n",
        "\n",
        "    return (mode_action + 1) % configuration.signs"
      ],
      "metadata": {
        "id": "PNb7TPP4fdRt",
        "outputId": "68659ea7-880c-4c6e-89f2-f6987b5a5f65",
        "colab": {
          "base_uri": "https://localhost:8080/"
        }
      },
      "execution_count": 25,
      "outputs": [
        {
          "output_type": "stream",
          "name": "stdout",
          "text": [
            "Writing statistical.py\n"
          ]
        }
      ]
    },
    {
      "cell_type": "markdown",
      "source": [
        "Воспользуемся функцией evaluate из библиотеки kaggle_environments с помощью которой запустим наших агентов и проведем эксперимент на заданном количестве игр"
      ],
      "metadata": {
        "id": "ExgIpXUVjbjN"
      }
    },
    {
      "cell_type": "code",
      "source": [
        "evaluate(\n",
        "    \"rps\", #environment to use - no need to change\n",
        "    [\"rock_agent.py\", \"copy_opponent.py\"], #agents to evaluate\n",
        "    configuration={\"episodeSteps\": 100} #number of episodes \n",
        ")"
      ],
      "metadata": {
        "id": "wv6Ip6M004xa"
      },
      "execution_count": null,
      "outputs": []
    },
    {
      "cell_type": "code",
      "source": [
        "evaluate(\n",
        "    \"rps\", #environment to use - no need to change\n",
        "    [\"rock_agent.py\", \"paper\"], #agents to evaluate\n",
        "    configuration={\"episodeSteps\": 100} #number of episodes \n",
        ")"
      ],
      "metadata": {
        "id": "FC6_QWe9k3rr",
        "outputId": "73f26785-35e2-47cb-9b96-e7e4531b0133",
        "colab": {
          "base_uri": "https://localhost:8080/"
        }
      },
      "execution_count": 24,
      "outputs": [
        {
          "output_type": "execute_result",
          "data": {
            "text/plain": [
              "[[-99.0, 99.0]]"
            ]
          },
          "metadata": {},
          "execution_count": 24
        }
      ]
    },
    {
      "cell_type": "code",
      "source": [
        "evaluate(\n",
        "    \"rps\",\n",
        "    [\"rock_agent.py\", \"random_agent.py\"],\n",
        "    configuration={\"episodeSteps\": 100}\n",
        ")"
      ],
      "metadata": {
        "id": "ikFzGPQigDGt",
        "outputId": "ba204d8c-376e-462a-8925-8171e7138689",
        "colab": {
          "base_uri": "https://localhost:8080/"
        }
      },
      "execution_count": 20,
      "outputs": [
        {
          "output_type": "execute_result",
          "data": {
            "text/plain": [
              "[[1, None]]"
            ]
          },
          "metadata": {},
          "execution_count": 20
        }
      ]
    },
    {
      "cell_type": "code",
      "source": [
        "evaluate(\n",
        "    \"rps\",\n",
        "    [\"random_agent.py\", \"statistical.py\"],\n",
        "    configuration={\"episodeSteps\": 100}\n",
        ")"
      ],
      "metadata": {
        "id": "JwmJECKNjg-Z",
        "outputId": "0a11197c-54a9-4b3a-cde8-79a27b87c256",
        "colab": {
          "base_uri": "https://localhost:8080/"
        }
      },
      "execution_count": 26,
      "outputs": [
        {
          "output_type": "execute_result",
          "data": {
            "text/plain": [
              "[[None, 1]]"
            ]
          },
          "metadata": {},
          "execution_count": 26
        }
      ]
    }
  ]
}