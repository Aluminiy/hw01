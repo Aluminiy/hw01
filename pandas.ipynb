{
  "nbformat": 4,
  "nbformat_minor": 0,
  "metadata": {
    "colab": {
      "provenance": [],
      "authorship_tag": "ABX9TyPcpJqUvVGk1NmWBCjW58UL"
    },
    "kernelspec": {
      "name": "python3",
      "display_name": "Python 3"
    },
    "language_info": {
      "name": "python"
    }
  },
  "cells": [
    {
      "cell_type": "code",
      "execution_count": null,
      "metadata": {
        "id": "b6Hu1Mizf8hL"
      },
      "outputs": [],
      "source": [
        "import pandas as pd\n",
        "import numpy as np\n",
        "\n",
        "\n",
        "questions = pd.read_csv('hw2/questions.csv')\n",
        "lectures = pd.read_csv('hw2/lectures.csv')\n",
        "train = pd.read_csv('hw2/train.csv')"
      ]
    },
    {
      "cell_type": "code",
      "source": [
        "print(train.info())"
      ],
      "metadata": {
        "id": "rY4MMW9Vg2Mk"
      },
      "execution_count": null,
      "outputs": []
    },
    {
      "cell_type": "markdown",
      "source": [
        "<class 'pandas.core.frame.DataFrame'>\n",
        "RangeIndex: 101230332 entries, 0 to 101230331\n",
        "Data columns (total 10 columns):\n",
        " #   Column                          Dtype  \n",
        "---  ------                          -----  \n",
        " 0   row_id                          int64  \n",
        " 1   timestamp                       int64  \n",
        " 2   user_id                         int64  \n",
        " 3   content_id                      int64  \n",
        " 4   content_type_id                 int64  \n",
        " 5   task_container_id               int64  \n",
        " 6   user_answer                     int64  \n",
        " 7   answered_correctly              int64  \n",
        " 8   prior_question_elapsed_time     float64\n",
        " 9   prior_question_had_explanation  object \n",
        "dtypes: float64(1), int64(8), object(1)\n",
        "memory usage: 7.5+ GB"
      ],
      "metadata": {
        "id": "BasrDiSMgrpZ"
      }
    },
    {
      "cell_type": "markdown",
      "source": [
        "Столбец prior_question_had_explanation, судя по названию, должен иметь тип boolean\n"
      ],
      "metadata": {
        "id": "yy830udzhD3j"
      }
    },
    {
      "cell_type": "code",
      "source": [
        "train['prior_question_had_explanation'] = train['prior_question_had_explanation'].astype('boolean')\n",
        "print(train.info())"
      ],
      "metadata": {
        "id": "yWLHQ8XShkIU"
      },
      "execution_count": null,
      "outputs": []
    },
    {
      "cell_type": "markdown",
      "source": [
        "<class 'pandas.core.frame.DataFrame'>\n",
        "RangeIndex: 101230332 entries, 0 to 101230331\n",
        "Data columns (total 10 columns):\n",
        " #   Column                          Dtype  \n",
        "---  ------                          -----  \n",
        " 0   row_id                          int64  \n",
        " 1   timestamp                       int64  \n",
        " 2   user_id                         int64  \n",
        " 3   content_id                      int64  \n",
        " 4   content_type_id                 int64  \n",
        " 5   task_container_id               int64  \n",
        " 6   user_answer                     int64  \n",
        " 7   answered_correctly              int64  \n",
        " 8   prior_question_elapsed_time     float64\n",
        " 9   prior_question_had_explanation  boolean\n",
        "dtypes: boolean(1), float64(1), int64(8)\n",
        "memory usage: 7.0 GB\n",
        "\n",
        "Тем самым уменьшился объем используемой памяти для датасета"
      ],
      "metadata": {
        "id": "Qj26URwThnfH"
      }
    },
    {
      "cell_type": "code",
      "source": [
        "print(f'{train.user_id.nunique()} уникальных пользователей')"
      ],
      "metadata": {
        "id": "-rygsHzKh5Nt"
      },
      "execution_count": null,
      "outputs": []
    },
    {
      "cell_type": "markdown",
      "source": [
        "393656 уникальных пользователей"
      ],
      "metadata": {
        "id": "vK0iqNb6h7A_"
      }
    },
    {
      "cell_type": "code",
      "source": [
        "print(f'Кол-во уникальных  id {train.content_id.nunique()} в датасете, из которых {train[train.content_type_id == False].content_id.nunique()} - вопросы.')"
      ],
      "metadata": {
        "id": "a4-Ipo_iiKu_"
      },
      "execution_count": null,
      "outputs": []
    },
    {
      "cell_type": "markdown",
      "source": [
        "Кол-во уникальных  id 13782 в датасете, из которых 13523 - вопросы."
      ],
      "metadata": {
        "id": "pyFbzCmWiNGo"
      }
    },
    {
      "cell_type": "code",
      "source": [
        "print(f'Имеется {train.task_container_id.nunique()} уникальных пакетов вопросов или лекций.')"
      ],
      "metadata": {
        "id": "j9RH4rxciYan"
      },
      "execution_count": null,
      "outputs": []
    },
    {
      "cell_type": "markdown",
      "source": [
        "Имеется 10000 уникальных пакетов вопросов или лекций."
      ],
      "metadata": {
        "id": "ATKuJ8sWiawO"
      }
    },
    {
      "cell_type": "code",
      "source": [
        "print(f'Из {train.user_id.nunique()} юзеров имеется {train[train.timestamp == 0].user_id.nunique()} юзеров с timestamp = 0.')"
      ],
      "metadata": {
        "id": "Usj0jJrKif1V"
      },
      "execution_count": null,
      "outputs": []
    },
    {
      "cell_type": "markdown",
      "source": [
        "Из 393656 юзеров имеется 393656 юзеров с timestamp = 0."
      ],
      "metadata": {
        "id": "vsyjFuGpij_G"
      }
    },
    {
      "cell_type": "code",
      "source": [
        "correct = train[train.answered_correctly != -1].answered_correctly.value_counts(ascending=True)\n",
        "user_percent = train[train.answered_correctly != -1].groupby('user_id')['answered_correctly'].agg(Mean='mean', Answers='count')\n",
        "print(f'Наибольшее кол-во отвеченных вопросов пользователем: {user_percent.Answers.max()}')"
      ],
      "metadata": {
        "id": "PeunwHjqimZg"
      },
      "execution_count": null,
      "outputs": []
    },
    {
      "cell_type": "markdown",
      "source": [
        "Наибольшее кол-во отвеченных вопросов пользователем: 17609"
      ],
      "metadata": {
        "id": "buDBGT68iuaL"
      }
    },
    {
      "cell_type": "markdown",
      "source": [
        "# ВОПРОСЫ"
      ],
      "metadata": {
        "id": "W8QrWXqei4BC"
      }
    },
    {
      "cell_type": "code",
      "source": [
        "print(questions.head())"
      ],
      "metadata": {
        "id": "lysA1wTni_y9"
      },
      "execution_count": null,
      "outputs": []
    },
    {
      "cell_type": "markdown",
      "source": [
        "question_id  bundle_id  correct_answer  part            tags\n",
        "0            0          0               0     1   51 131 162 38\n",
        "1            1          1               1     1       131 36 81\n",
        "2            2          2               0     1  131 101 162 92\n",
        "3            3          3               0     1  131 149 162 29\n",
        "4            4          4               3     1    131 5 162 38\n",
        "(13523, 5)"
      ],
      "metadata": {
        "id": "8t7ZgXa5jBSy"
      }
    },
    {
      "cell_type": "code",
      "source": [
        "tags = [x.split() for x in questions[questions.tags != \"nan\"].tags.values]\n",
        "tags = [item for elem in tags for item in elem]\n",
        "tags = set(tags)\n",
        "tags = list(tags)\n",
        "print(f'Кол-во различных тэгов: {len(tags)}')"
      ],
      "metadata": {
        "id": "dbD4yMOOjLWv"
      },
      "execution_count": null,
      "outputs": []
    },
    {
      "cell_type": "markdown",
      "source": [
        "Кол-во различных тэгов: 188"
      ],
      "metadata": {
        "id": "OlpzFicSjMZg"
      }
    },
    {
      "cell_type": "markdown",
      "source": [
        "Кол-во верно и неверно данных ответов на вопросы с градацией по тэгам"
      ],
      "metadata": {
        "id": "at29nkX3jnkw"
      }
    },
    {
      "cell_type": "code",
      "source": [
        "tags_list = [x.split() for x in questions.tags.values]\n",
        "questions['tags'] = tags_list\n",
        "\n",
        "\n",
        "correct = train[train.answered_correctly != -1].groupby([\"content_id\", 'answered_correctly'], as_index=False).size()\n",
        "correct = correct.pivot(index= \"content_id\", columns='answered_correctly', values='size')\n",
        "correct.columns = ['Wrong', 'Right']\n",
        "correct = correct.fillna(0)\n",
        "correct[['Wrong', 'Right']] = correct[['Wrong', 'Right']].astype(int)\n",
        "questions = questions.merge(correct, left_on = \"question_id\", right_on = \"content_id\", how = \"left\")\n",
        "\n",
        "\n",
        "tags_df = pd.DataFrame()\n",
        "for x in range(len(tags)):\n",
        "    df = questions[questions.tags.apply(lambda l: tags[x] in l)]\n",
        "    df1 = df.agg({'Wrong': ['sum'], 'Right': ['sum']})\n",
        "    df1['Total_questions'] = df1.Wrong + df1.Right\n",
        "    df1['Question_ids_with_tag'] = len(df)\n",
        "    df1['tag'] = tags[x]\n",
        "    df1 = df1.set_index('tag')\n",
        "    tags_df = tags_df.append(df1)\n",
        "\n",
        "tags_df[['Wrong', 'Right', 'Total_questions']] = tags_df[['Wrong', 'Right', 'Total_questions']].astype(int)\n",
        "tags_df['Percent_correct'] = tags_df.Right/tags_df.Total_questions\n",
        "tags_df = tags_df.sort_values(by = \"Percent_correct\")\n",
        "\n",
        "print(tags_df.head())"
      ],
      "metadata": {
        "id": "71kg5eiHji5G"
      },
      "execution_count": null,
      "outputs": []
    },
    {
      "cell_type": "markdown",
      "source": [
        "Wrong   Right  Total_questions  Question_ids_with_tag  Percent_correct\n",
        "tag                                                                         \n",
        "24   157631   98982           256613                     17         0.385725\n",
        "23   261611  204293           465904                     11         0.438487\n",
        "19   173602  136367           309969                     57         0.439938\n",
        "151  272267  264913           537180                     16         0.493155\n",
        "167  170386  170681           341067                     11         0.500432"
      ],
      "metadata": {
        "id": "vclzRSt0jmpD"
      }
    },
    {
      "cell_type": "markdown",
      "source": [
        "# ЛЕКЦИИ"
      ],
      "metadata": {
        "id": "RLa42TAgjz1z"
      }
    },
    {
      "cell_type": "code",
      "source": [
        "print(lectures.head())"
      ],
      "metadata": {
        "id": "xZE0xEFmj56T"
      },
      "execution_count": null,
      "outputs": []
    },
    {
      "cell_type": "markdown",
      "source": [
        "lecture_id  tag  part           type_of\n",
        "0          89  159     5           concept\n",
        "1         100   70     1           concept\n",
        "2         185   45     6           concept\n",
        "3         192   79     5  solving question\n",
        "4         317  156     5  solving question"
      ],
      "metadata": {
        "id": "zwdL3jJnj9SS"
      }
    },
    {
      "cell_type": "code",
      "source": [
        "print(f'Кол-во лекций: {lectures.shape[0]}')"
      ],
      "metadata": {
        "id": "6U50MxC2kqKs"
      },
      "execution_count": null,
      "outputs": []
    },
    {
      "cell_type": "markdown",
      "source": [
        "Кол-во лекций: 418"
      ],
      "metadata": {
        "id": "vAEAKeCAksfm"
      }
    },
    {
      "cell_type": "code",
      "source": [
        "print(lectures.type_of.value_counts())"
      ],
      "metadata": {
        "id": "JmXjc6Cfkvt-"
      },
      "execution_count": null,
      "outputs": []
    },
    {
      "cell_type": "markdown",
      "source": [
        "concept             222\n",
        "solving question    186\n",
        "intention             7\n",
        "starter               3"
      ],
      "metadata": {
        "id": "0xmHPWDakzn4"
      }
    },
    {
      "cell_type": "code",
      "source": [
        "batch_lect = train.groupby([\"task_container_id\", \"answered_correctly\"]).size().unstack()\n",
        "batch_lect.columns = ['Lecture', 'Wrong', 'Right']\n",
        "batch_lect['Lecture'] = batch_lect['Lecture'].fillna(0)\n",
        "batch_lect = batch_lect.astype('Int64')\n",
        "batch_lect['Percent_correct'] = batch_lect.Right/(batch_lect.Wrong + batch_lect.Right)\n",
        "batch_lect['Percent_lecture'] = batch_lect.Lecture/(batch_lect.Lecture + batch_lect.Wrong + batch_lect.Right)\n",
        "batch_lect = batch_lect.sort_values(by = \"Percent_lecture\", ascending = False)\n",
        "\n",
        "print(f'Наибольшее кол-во лекций, просмотренных в рамках одного task_container_id: {batch_lect.Lecture.max()}.')\n",
        "print(batch_lect.head())"
      ],
      "metadata": {
        "id": "FiOGLFeKl6iY"
      },
      "execution_count": null,
      "outputs": []
    },
    {
      "cell_type": "markdown",
      "source": [
        "Наибольшее кол-во лекций, просмотренных в рамках одного task_container_id: 5143.\n",
        "                   Lecture  Wrong  Right  Percent_correct  Percent_lecture\n",
        "task_container_id                                                         \n",
        "9096                     8     57    191         0.770161          0.03125\n",
        "270                   2265  26105  52352          0.66727         0.028059\n",
        "477                   1428  16166  33427         0.674027         0.027988\n",
        "253                   2343  27380  54798         0.666821         0.027721\n",
        "351                   1835  21225  43158         0.670332         0.027711"
      ],
      "metadata": {
        "id": "i-cvD6Rql7Od"
      }
    }
  ]
}